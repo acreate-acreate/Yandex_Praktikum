{
 "cells": [
  {
   "cell_type": "markdown",
   "metadata": {},
   "source": [
    "Сервис по продаже автомобилей с пробегом «Не бит, не крашен» разрабатывает приложение для привлечения новых клиентов. В нём можно быстро узнать рыночную стоимость своего автомобиля. В вашем распоряжении исторические данные: технические характеристики, комплектации и цены автомобилей. Вам нужно построить модель для определения стоимости. \n",
    "\n",
    "Заказчику важны:\n",
    "\n",
    "- качество предсказания;\n",
    "- скорость предсказания;\n",
    "- время обучения."
   ]
  },
  {
   "cell_type": "markdown",
   "metadata": {},
   "source": [
    "# 1. Подготовка данных"
   ]
  },
  {
   "cell_type": "code",
   "execution_count": 1,
   "metadata": {},
   "outputs": [
    {
     "data": {
      "text/html": [
       "<div>\n",
       "<style scoped>\n",
       "    .dataframe tbody tr th:only-of-type {\n",
       "        vertical-align: middle;\n",
       "    }\n",
       "\n",
       "    .dataframe tbody tr th {\n",
       "        vertical-align: top;\n",
       "    }\n",
       "\n",
       "    .dataframe thead th {\n",
       "        text-align: right;\n",
       "    }\n",
       "</style>\n",
       "<table border=\"1\" class=\"dataframe\">\n",
       "  <thead>\n",
       "    <tr style=\"text-align: right;\">\n",
       "      <th></th>\n",
       "      <th>DateCrawled</th>\n",
       "      <th>Price</th>\n",
       "      <th>VehicleType</th>\n",
       "      <th>RegistrationYear</th>\n",
       "      <th>Gearbox</th>\n",
       "      <th>Power</th>\n",
       "      <th>Model</th>\n",
       "      <th>Kilometer</th>\n",
       "      <th>RegistrationMonth</th>\n",
       "      <th>FuelType</th>\n",
       "      <th>Brand</th>\n",
       "      <th>NotRepaired</th>\n",
       "      <th>DateCreated</th>\n",
       "      <th>NumberOfPictures</th>\n",
       "      <th>PostalCode</th>\n",
       "      <th>LastSeen</th>\n",
       "    </tr>\n",
       "  </thead>\n",
       "  <tbody>\n",
       "    <tr>\n",
       "      <td>0</td>\n",
       "      <td>2016-03-24 11:52:17</td>\n",
       "      <td>480</td>\n",
       "      <td>NaN</td>\n",
       "      <td>1993</td>\n",
       "      <td>manual</td>\n",
       "      <td>0</td>\n",
       "      <td>golf</td>\n",
       "      <td>150000</td>\n",
       "      <td>0</td>\n",
       "      <td>petrol</td>\n",
       "      <td>volkswagen</td>\n",
       "      <td>NaN</td>\n",
       "      <td>2016-03-24 00:00:00</td>\n",
       "      <td>0</td>\n",
       "      <td>70435</td>\n",
       "      <td>2016-04-07 03:16:57</td>\n",
       "    </tr>\n",
       "    <tr>\n",
       "      <td>1</td>\n",
       "      <td>2016-03-24 10:58:45</td>\n",
       "      <td>18300</td>\n",
       "      <td>coupe</td>\n",
       "      <td>2011</td>\n",
       "      <td>manual</td>\n",
       "      <td>190</td>\n",
       "      <td>NaN</td>\n",
       "      <td>125000</td>\n",
       "      <td>5</td>\n",
       "      <td>gasoline</td>\n",
       "      <td>audi</td>\n",
       "      <td>yes</td>\n",
       "      <td>2016-03-24 00:00:00</td>\n",
       "      <td>0</td>\n",
       "      <td>66954</td>\n",
       "      <td>2016-04-07 01:46:50</td>\n",
       "    </tr>\n",
       "    <tr>\n",
       "      <td>2</td>\n",
       "      <td>2016-03-14 12:52:21</td>\n",
       "      <td>9800</td>\n",
       "      <td>suv</td>\n",
       "      <td>2004</td>\n",
       "      <td>auto</td>\n",
       "      <td>163</td>\n",
       "      <td>grand</td>\n",
       "      <td>125000</td>\n",
       "      <td>8</td>\n",
       "      <td>gasoline</td>\n",
       "      <td>jeep</td>\n",
       "      <td>NaN</td>\n",
       "      <td>2016-03-14 00:00:00</td>\n",
       "      <td>0</td>\n",
       "      <td>90480</td>\n",
       "      <td>2016-04-05 12:47:46</td>\n",
       "    </tr>\n",
       "    <tr>\n",
       "      <td>3</td>\n",
       "      <td>2016-03-17 16:54:04</td>\n",
       "      <td>1500</td>\n",
       "      <td>small</td>\n",
       "      <td>2001</td>\n",
       "      <td>manual</td>\n",
       "      <td>75</td>\n",
       "      <td>golf</td>\n",
       "      <td>150000</td>\n",
       "      <td>6</td>\n",
       "      <td>petrol</td>\n",
       "      <td>volkswagen</td>\n",
       "      <td>no</td>\n",
       "      <td>2016-03-17 00:00:00</td>\n",
       "      <td>0</td>\n",
       "      <td>91074</td>\n",
       "      <td>2016-03-17 17:40:17</td>\n",
       "    </tr>\n",
       "    <tr>\n",
       "      <td>4</td>\n",
       "      <td>2016-03-31 17:25:20</td>\n",
       "      <td>3600</td>\n",
       "      <td>small</td>\n",
       "      <td>2008</td>\n",
       "      <td>manual</td>\n",
       "      <td>69</td>\n",
       "      <td>fabia</td>\n",
       "      <td>90000</td>\n",
       "      <td>7</td>\n",
       "      <td>gasoline</td>\n",
       "      <td>skoda</td>\n",
       "      <td>no</td>\n",
       "      <td>2016-03-31 00:00:00</td>\n",
       "      <td>0</td>\n",
       "      <td>60437</td>\n",
       "      <td>2016-04-06 10:17:21</td>\n",
       "    </tr>\n",
       "  </tbody>\n",
       "</table>\n",
       "</div>"
      ],
      "text/plain": [
       "           DateCrawled  Price VehicleType  RegistrationYear Gearbox  Power  \\\n",
       "0  2016-03-24 11:52:17    480         NaN              1993  manual      0   \n",
       "1  2016-03-24 10:58:45  18300       coupe              2011  manual    190   \n",
       "2  2016-03-14 12:52:21   9800         suv              2004    auto    163   \n",
       "3  2016-03-17 16:54:04   1500       small              2001  manual     75   \n",
       "4  2016-03-31 17:25:20   3600       small              2008  manual     69   \n",
       "\n",
       "   Model  Kilometer  RegistrationMonth  FuelType       Brand NotRepaired  \\\n",
       "0   golf     150000                  0    petrol  volkswagen         NaN   \n",
       "1    NaN     125000                  5  gasoline        audi         yes   \n",
       "2  grand     125000                  8  gasoline        jeep         NaN   \n",
       "3   golf     150000                  6    petrol  volkswagen          no   \n",
       "4  fabia      90000                  7  gasoline       skoda          no   \n",
       "\n",
       "           DateCreated  NumberOfPictures  PostalCode             LastSeen  \n",
       "0  2016-03-24 00:00:00                 0       70435  2016-04-07 03:16:57  \n",
       "1  2016-03-24 00:00:00                 0       66954  2016-04-07 01:46:50  \n",
       "2  2016-03-14 00:00:00                 0       90480  2016-04-05 12:47:46  \n",
       "3  2016-03-17 00:00:00                 0       91074  2016-03-17 17:40:17  \n",
       "4  2016-03-31 00:00:00                 0       60437  2016-04-06 10:17:21  "
      ]
     },
     "execution_count": 1,
     "metadata": {},
     "output_type": "execute_result"
    }
   ],
   "source": [
    "import pandas as pd\n",
    "import warnings\n",
    "warnings.filterwarnings('ignore')\n",
    "import numpy as np\n",
    "from sklearn.model_selection import train_test_split\n",
    "import lightgbm as lgb\n",
    "from sklearn.metrics import mean_squared_error\n",
    "import copy\n",
    "df = pd.read_csv('/datasets/autos.csv')\n",
    "df.head()"
   ]
  },
  {
   "cell_type": "code",
   "execution_count": 2,
   "metadata": {},
   "outputs": [
    {
     "name": "stdout",
     "output_type": "stream",
     "text": [
      "<class 'pandas.core.frame.DataFrame'>\n",
      "RangeIndex: 354369 entries, 0 to 354368\n",
      "Data columns (total 16 columns):\n",
      "DateCrawled          354369 non-null object\n",
      "Price                354369 non-null int64\n",
      "VehicleType          316879 non-null object\n",
      "RegistrationYear     354369 non-null int64\n",
      "Gearbox              334536 non-null object\n",
      "Power                354369 non-null int64\n",
      "Model                334664 non-null object\n",
      "Kilometer            354369 non-null int64\n",
      "RegistrationMonth    354369 non-null int64\n",
      "FuelType             321474 non-null object\n",
      "Brand                354369 non-null object\n",
      "NotRepaired          283215 non-null object\n",
      "DateCreated          354369 non-null object\n",
      "NumberOfPictures     354369 non-null int64\n",
      "PostalCode           354369 non-null int64\n",
      "LastSeen             354369 non-null object\n",
      "dtypes: int64(7), object(9)\n",
      "memory usage: 43.3+ MB\n"
     ]
    }
   ],
   "source": [
    "df.info()"
   ]
  },
  {
   "cell_type": "code",
   "execution_count": 3,
   "metadata": {},
   "outputs": [],
   "source": [
    "#добавлю тэг категориальным для дальнейшего удобства и отброшу даты\n",
    "df.columns = ['DateCrawled', 'Price', 'VehicleType_cat', 'RegistrationYear', 'Gearbox_cat',\n",
    "       'Power', 'Model_cat', 'Kilometer', 'RegistrationMonth', 'FuelType_cat', 'Brand_cat',\n",
    "       'Repaired_cat', 'DateCreated', 'NumberOfPictures', 'PostalCode',\n",
    "       'LastSeen']\n",
    "\n",
    "df= df.drop(['DateCrawled','DateCreated','LastSeen'], axis=1)"
   ]
  },
  {
   "cell_type": "markdown",
   "metadata": {},
   "source": [
    "Посмотрим на количество нанов и их процентное соотношение:"
   ]
  },
  {
   "cell_type": "code",
   "execution_count": 4,
   "metadata": {},
   "outputs": [
    {
     "data": {
      "text/html": [
       "<div>\n",
       "<style scoped>\n",
       "    .dataframe tbody tr th:only-of-type {\n",
       "        vertical-align: middle;\n",
       "    }\n",
       "\n",
       "    .dataframe tbody tr th {\n",
       "        vertical-align: top;\n",
       "    }\n",
       "\n",
       "    .dataframe thead th {\n",
       "        text-align: right;\n",
       "    }\n",
       "</style>\n",
       "<table border=\"1\" class=\"dataframe\">\n",
       "  <thead>\n",
       "    <tr style=\"text-align: right;\">\n",
       "      <th></th>\n",
       "      <th>Всего NaN</th>\n",
       "      <th>% NaN</th>\n",
       "    </tr>\n",
       "  </thead>\n",
       "  <tbody>\n",
       "    <tr>\n",
       "      <td>Repaired_cat</td>\n",
       "      <td>71154</td>\n",
       "      <td>0.200791</td>\n",
       "    </tr>\n",
       "    <tr>\n",
       "      <td>VehicleType_cat</td>\n",
       "      <td>37490</td>\n",
       "      <td>0.105794</td>\n",
       "    </tr>\n",
       "    <tr>\n",
       "      <td>FuelType_cat</td>\n",
       "      <td>32895</td>\n",
       "      <td>0.092827</td>\n",
       "    </tr>\n",
       "    <tr>\n",
       "      <td>Gearbox_cat</td>\n",
       "      <td>19833</td>\n",
       "      <td>0.055967</td>\n",
       "    </tr>\n",
       "    <tr>\n",
       "      <td>Model_cat</td>\n",
       "      <td>19705</td>\n",
       "      <td>0.055606</td>\n",
       "    </tr>\n",
       "    <tr>\n",
       "      <td>Price</td>\n",
       "      <td>0</td>\n",
       "      <td>0.000000</td>\n",
       "    </tr>\n",
       "    <tr>\n",
       "      <td>RegistrationYear</td>\n",
       "      <td>0</td>\n",
       "      <td>0.000000</td>\n",
       "    </tr>\n",
       "    <tr>\n",
       "      <td>Power</td>\n",
       "      <td>0</td>\n",
       "      <td>0.000000</td>\n",
       "    </tr>\n",
       "    <tr>\n",
       "      <td>Kilometer</td>\n",
       "      <td>0</td>\n",
       "      <td>0.000000</td>\n",
       "    </tr>\n",
       "    <tr>\n",
       "      <td>RegistrationMonth</td>\n",
       "      <td>0</td>\n",
       "      <td>0.000000</td>\n",
       "    </tr>\n",
       "  </tbody>\n",
       "</table>\n",
       "</div>"
      ],
      "text/plain": [
       "                   Всего NaN     % NaN\n",
       "Repaired_cat           71154  0.200791\n",
       "VehicleType_cat        37490  0.105794\n",
       "FuelType_cat           32895  0.092827\n",
       "Gearbox_cat            19833  0.055967\n",
       "Model_cat              19705  0.055606\n",
       "Price                      0  0.000000\n",
       "RegistrationYear           0  0.000000\n",
       "Power                      0  0.000000\n",
       "Kilometer                  0  0.000000\n",
       "RegistrationMonth          0  0.000000"
      ]
     },
     "execution_count": 4,
     "metadata": {},
     "output_type": "execute_result"
    }
   ],
   "source": [
    "def table (df):  \n",
    "    x = pd.DataFrame()\n",
    "    x['Всего NaN'] = df.isna().sum()\n",
    "    x['% NaN'] = x['Всего NaN'] / df.shape[0]\n",
    "    return x.sort_values('% NaN', ascending=False)\n",
    "\n",
    "table(df).head(10)"
   ]
  },
  {
   "cell_type": "markdown",
   "metadata": {},
   "source": [
    "И вот тут бы я хотела попробовать два пути.\n",
    "1. Не предобрабатывать данные вообще, удалив только пропуски. Я хочу попробовать сделать ее более помехоустойчивой, обучив ее на \"плохих\" данных. Очевидно, качество предсказания от этого может сильно пострадать.\n",
    "2. Предобработать данные как обычно и обучить модель на них.\n",
    "\n",
    "Обучим модель на обоих датасетах и сравним качество и способность каждой модели к переобучению"
   ]
  },
  {
   "cell_type": "code",
   "execution_count": 5,
   "metadata": {},
   "outputs": [],
   "source": [
    "bad_df = copy.deepcopy(df)\n",
    "bad_df = bad_df.dropna()"
   ]
  },
  {
   "cell_type": "code",
   "execution_count": 6,
   "metadata": {},
   "outputs": [
    {
     "data": {
      "text/plain": [
       "no     247161\n",
       "yes     36054\n",
       "Name: Repaired_cat, dtype: int64"
      ]
     },
     "execution_count": 6,
     "metadata": {},
     "output_type": "execute_result"
    }
   ],
   "source": [
    "df['Repaired_cat'].value_counts()"
   ]
  },
  {
   "cell_type": "code",
   "execution_count": 7,
   "metadata": {},
   "outputs": [
    {
     "data": {
      "text/plain": [
       "3"
      ]
     },
     "execution_count": 7,
     "metadata": {},
     "output_type": "execute_result"
    }
   ],
   "source": [
    "df['Repaired_cat'].unique().shape[0]"
   ]
  },
  {
   "cell_type": "markdown",
   "metadata": {},
   "source": [
    "Если следовать описанию, то верная трактовка столбца NotRepaired будет такова: yes (True) - не ремонтировались, no (False) - ремонтировались. Но это столбец с самым большим количеством пропусков. Выглядит так, будто люди не нажимали этот \"чекбокс\", думая что отсутствие отметки = отсутствие ремонта, хотя по логике описания столбца должно быть иначе. Ну и пропусков 71 тысяча, что практически в 2 раза превышает количество отмеченных правильно yes, 36 тысяч. Таким образом, если мы добавим пропуски так, как следует логике, мы увеличим количество значений почти в 3 раза. Дропать 20 % датасета из-за этих пропусков мне также кажется неправильным. Попробую последовать логике людей - переименую столбец с NotRepaired на Repaired (уже выше) и заполню NaN-ы на значение 'no' - не ремонтировалась."
   ]
  },
  {
   "cell_type": "code",
   "execution_count": 8,
   "metadata": {},
   "outputs": [
    {
     "data": {
      "text/plain": [
       "no     318315\n",
       "yes     36054\n",
       "Name: Repaired_cat, dtype: int64"
      ]
     },
     "execution_count": 8,
     "metadata": {},
     "output_type": "execute_result"
    }
   ],
   "source": [
    "df['Repaired_cat'] = df['Repaired_cat'].fillna('no')\n",
    "df['Repaired_cat'].value_counts()"
   ]
  },
  {
   "cell_type": "code",
   "execution_count": 9,
   "metadata": {},
   "outputs": [
    {
     "data": {
      "text/plain": [
       "sedan          91457\n",
       "small          79831\n",
       "wagon          65166\n",
       "bus            28775\n",
       "convertible    20203\n",
       "coupe          16163\n",
       "suv            11996\n",
       "other           3288\n",
       "Name: VehicleType_cat, dtype: int64"
      ]
     },
     "execution_count": 9,
     "metadata": {},
     "output_type": "execute_result"
    }
   ],
   "source": [
    "df['VehicleType_cat'].value_counts()"
   ]
  },
  {
   "cell_type": "code",
   "execution_count": 10,
   "metadata": {},
   "outputs": [
    {
     "data": {
      "image/png": "[encoded data removed]",
      "text/plain": [
       "<Figure size 432x288 with 1 Axes>"
      ]
     },
     "metadata": {
      "needs_background": "light"
     },
     "output_type": "display_data"
    },
    {
     "data": {
      "image/png": "[encoded data removed]",
      "text/plain": [
       "<Figure size 432x288 with 1 Axes>"
      ]
     },
     "metadata": {
      "needs_background": "light"
     },
     "output_type": "display_data"
    },
    {
     "data": {
      "image/png": "[encoded data removed]",
      "text/plain": [
       "<Figure size 432x288 with 1 Axes>"
      ]
     },
     "metadata": {
      "needs_background": "light"
     },
     "output_type": "display_data"
    }
   ],
   "source": [
    "df['Model_cat'] = df['Model_cat'].fillna('unknown')\n",
    "df['VehicleType_cat'] = df['VehicleType_cat'].fillna('unknown')\n",
    "df['FuelType_cat'] = df['FuelType_cat'].fillna('unknown')\n",
    "df['Gearbox_cat'] = df['Gearbox_cat'].fillna('unknown')\n",
    "import seaborn as sns\n",
    "import matplotlib.pyplot as plt\n",
    "for x in ['Power','Kilometer','Price']:\n",
    "    sns.boxplot(df[x]) \n",
    "    plt.show()"
   ]
  },
  {
   "cell_type": "markdown",
   "metadata": {},
   "source": [
    "Ограничим явные аномалии в столбце с ценой. Нули в цене и мощности заполним средним значением по каждому виду модели машин:"
   ]
  },
  {
   "cell_type": "code",
   "execution_count": 11,
   "metadata": {},
   "outputs": [],
   "source": [
    "df = df.query('Price < 14000')\n",
    "df = df.query('Price != 1')\n",
    "power_pivot = df.pivot_table(columns='Model_cat', values='Power', aggfunc='mean').astype('int').to_dict()\n",
    "price_pivot = df.pivot_table(columns='Model_cat', values='Price', aggfunc='mean').astype('int').to_dict()"
   ]
  },
  {
   "cell_type": "code",
   "execution_count": 12,
   "metadata": {},
   "outputs": [
    {
     "data": {
      "text/html": [
       "<div>\n",
       "<style scoped>\n",
       "    .dataframe tbody tr th:only-of-type {\n",
       "        vertical-align: middle;\n",
       "    }\n",
       "\n",
       "    .dataframe tbody tr th {\n",
       "        vertical-align: top;\n",
       "    }\n",
       "\n",
       "    .dataframe thead th {\n",
       "        text-align: right;\n",
       "    }\n",
       "</style>\n",
       "<table border=\"1\" class=\"dataframe\">\n",
       "  <thead>\n",
       "    <tr style=\"text-align: right;\">\n",
       "      <th></th>\n",
       "      <th>Price</th>\n",
       "      <th>VehicleType_cat</th>\n",
       "      <th>RegistrationYear</th>\n",
       "      <th>Gearbox_cat</th>\n",
       "      <th>Power</th>\n",
       "      <th>Model_cat</th>\n",
       "      <th>Kilometer</th>\n",
       "      <th>RegistrationMonth</th>\n",
       "      <th>FuelType_cat</th>\n",
       "      <th>Brand_cat</th>\n",
       "      <th>Repaired_cat</th>\n",
       "      <th>NumberOfPictures</th>\n",
       "      <th>PostalCode</th>\n",
       "    </tr>\n",
       "  </thead>\n",
       "  <tbody>\n",
       "    <tr>\n",
       "      <td>0</td>\n",
       "      <td>480</td>\n",
       "      <td>unknown</td>\n",
       "      <td>1993</td>\n",
       "      <td>manual</td>\n",
       "      <td>94</td>\n",
       "      <td>golf</td>\n",
       "      <td>150000</td>\n",
       "      <td>0</td>\n",
       "      <td>petrol</td>\n",
       "      <td>volkswagen</td>\n",
       "      <td>no</td>\n",
       "      <td>0</td>\n",
       "      <td>70435</td>\n",
       "    </tr>\n",
       "    <tr>\n",
       "      <td>2</td>\n",
       "      <td>9800</td>\n",
       "      <td>suv</td>\n",
       "      <td>2004</td>\n",
       "      <td>auto</td>\n",
       "      <td>163</td>\n",
       "      <td>grand</td>\n",
       "      <td>125000</td>\n",
       "      <td>8</td>\n",
       "      <td>gasoline</td>\n",
       "      <td>jeep</td>\n",
       "      <td>no</td>\n",
       "      <td>0</td>\n",
       "      <td>90480</td>\n",
       "    </tr>\n",
       "    <tr>\n",
       "      <td>3</td>\n",
       "      <td>1500</td>\n",
       "      <td>small</td>\n",
       "      <td>2001</td>\n",
       "      <td>manual</td>\n",
       "      <td>75</td>\n",
       "      <td>golf</td>\n",
       "      <td>150000</td>\n",
       "      <td>6</td>\n",
       "      <td>petrol</td>\n",
       "      <td>volkswagen</td>\n",
       "      <td>no</td>\n",
       "      <td>0</td>\n",
       "      <td>91074</td>\n",
       "    </tr>\n",
       "    <tr>\n",
       "      <td>4</td>\n",
       "      <td>3600</td>\n",
       "      <td>small</td>\n",
       "      <td>2008</td>\n",
       "      <td>manual</td>\n",
       "      <td>69</td>\n",
       "      <td>fabia</td>\n",
       "      <td>90000</td>\n",
       "      <td>7</td>\n",
       "      <td>gasoline</td>\n",
       "      <td>skoda</td>\n",
       "      <td>no</td>\n",
       "      <td>0</td>\n",
       "      <td>60437</td>\n",
       "    </tr>\n",
       "    <tr>\n",
       "      <td>5</td>\n",
       "      <td>650</td>\n",
       "      <td>sedan</td>\n",
       "      <td>1995</td>\n",
       "      <td>manual</td>\n",
       "      <td>102</td>\n",
       "      <td>3er</td>\n",
       "      <td>150000</td>\n",
       "      <td>10</td>\n",
       "      <td>petrol</td>\n",
       "      <td>bmw</td>\n",
       "      <td>yes</td>\n",
       "      <td>0</td>\n",
       "      <td>33775</td>\n",
       "    </tr>\n",
       "    <tr>\n",
       "      <td>6</td>\n",
       "      <td>2200</td>\n",
       "      <td>convertible</td>\n",
       "      <td>2004</td>\n",
       "      <td>manual</td>\n",
       "      <td>109</td>\n",
       "      <td>2_reihe</td>\n",
       "      <td>150000</td>\n",
       "      <td>8</td>\n",
       "      <td>petrol</td>\n",
       "      <td>peugeot</td>\n",
       "      <td>no</td>\n",
       "      <td>0</td>\n",
       "      <td>67112</td>\n",
       "    </tr>\n",
       "    <tr>\n",
       "      <td>7</td>\n",
       "      <td>3557</td>\n",
       "      <td>sedan</td>\n",
       "      <td>1980</td>\n",
       "      <td>manual</td>\n",
       "      <td>50</td>\n",
       "      <td>other</td>\n",
       "      <td>40000</td>\n",
       "      <td>7</td>\n",
       "      <td>petrol</td>\n",
       "      <td>volkswagen</td>\n",
       "      <td>no</td>\n",
       "      <td>0</td>\n",
       "      <td>19348</td>\n",
       "    </tr>\n",
       "    <tr>\n",
       "      <td>9</td>\n",
       "      <td>999</td>\n",
       "      <td>small</td>\n",
       "      <td>1998</td>\n",
       "      <td>manual</td>\n",
       "      <td>101</td>\n",
       "      <td>golf</td>\n",
       "      <td>150000</td>\n",
       "      <td>0</td>\n",
       "      <td>unknown</td>\n",
       "      <td>volkswagen</td>\n",
       "      <td>no</td>\n",
       "      <td>0</td>\n",
       "      <td>27472</td>\n",
       "    </tr>\n",
       "    <tr>\n",
       "      <td>10</td>\n",
       "      <td>2000</td>\n",
       "      <td>sedan</td>\n",
       "      <td>2004</td>\n",
       "      <td>manual</td>\n",
       "      <td>105</td>\n",
       "      <td>3_reihe</td>\n",
       "      <td>150000</td>\n",
       "      <td>12</td>\n",
       "      <td>petrol</td>\n",
       "      <td>mazda</td>\n",
       "      <td>no</td>\n",
       "      <td>0</td>\n",
       "      <td>96224</td>\n",
       "    </tr>\n",
       "    <tr>\n",
       "      <td>11</td>\n",
       "      <td>2799</td>\n",
       "      <td>wagon</td>\n",
       "      <td>2005</td>\n",
       "      <td>manual</td>\n",
       "      <td>140</td>\n",
       "      <td>passat</td>\n",
       "      <td>150000</td>\n",
       "      <td>12</td>\n",
       "      <td>gasoline</td>\n",
       "      <td>volkswagen</td>\n",
       "      <td>yes</td>\n",
       "      <td>0</td>\n",
       "      <td>57290</td>\n",
       "    </tr>\n",
       "  </tbody>\n",
       "</table>\n",
       "</div>"
      ],
      "text/plain": [
       "    Price VehicleType_cat  RegistrationYear Gearbox_cat  Power Model_cat  \\\n",
       "0     480         unknown              1993      manual     94      golf   \n",
       "2    9800             suv              2004        auto    163     grand   \n",
       "3    1500           small              2001      manual     75      golf   \n",
       "4    3600           small              2008      manual     69     fabia   \n",
       "5     650           sedan              1995      manual    102       3er   \n",
       "6    2200     convertible              2004      manual    109   2_reihe   \n",
       "7    3557           sedan              1980      manual     50     other   \n",
       "9     999           small              1998      manual    101      golf   \n",
       "10   2000           sedan              2004      manual    105   3_reihe   \n",
       "11   2799           wagon              2005      manual    140    passat   \n",
       "\n",
       "    Kilometer  RegistrationMonth FuelType_cat   Brand_cat Repaired_cat  \\\n",
       "0      150000                  0       petrol  volkswagen           no   \n",
       "2      125000                  8     gasoline        jeep           no   \n",
       "3      150000                  6       petrol  volkswagen           no   \n",
       "4       90000                  7     gasoline       skoda           no   \n",
       "5      150000                 10       petrol         bmw          yes   \n",
       "6      150000                  8       petrol     peugeot           no   \n",
       "7       40000                  7       petrol  volkswagen           no   \n",
       "9      150000                  0      unknown  volkswagen           no   \n",
       "10     150000                 12       petrol       mazda           no   \n",
       "11     150000                 12     gasoline  volkswagen          yes   \n",
       "\n",
       "    NumberOfPictures  PostalCode  \n",
       "0                  0       70435  \n",
       "2                  0       90480  \n",
       "3                  0       91074  \n",
       "4                  0       60437  \n",
       "5                  0       33775  \n",
       "6                  0       67112  \n",
       "7                  0       19348  \n",
       "9                  0       27472  \n",
       "10                 0       96224  \n",
       "11                 0       57290  "
      ]
     },
     "execution_count": 12,
     "metadata": {},
     "output_type": "execute_result"
    }
   ],
   "source": [
    "def fill_zero(row, category, where, pivot_table):\n",
    "    x = row[category]\n",
    "    y = pivot_table[x][where]\n",
    "    if row[where] == 0:  \n",
    "        row[where] = y\n",
    "    return row\n",
    "        \n",
    "df = df.apply(fill_zero, axis=1, args=('Model_cat','Power', power_pivot))\n",
    "df = df.apply(fill_zero, axis=1, args=('Model_cat','Price', price_pivot))\n",
    "\n",
    "df.head(10)"
   ]
  },
  {
   "cell_type": "markdown",
   "metadata": {},
   "source": [
    "Закончим предобработку: уберем нулевые строки с мощностью тех моделей, которые не попали в словарь(там остались нули), ограничим нижний предел с ценой до 100 евро"
   ]
  },
  {
   "cell_type": "code",
   "execution_count": 13,
   "metadata": {},
   "outputs": [],
   "source": [
    "df = df.query('Power != 0')\n",
    "df = df.query('Price > 100')"
   ]
  },
  {
   "cell_type": "code",
   "execution_count": 14,
   "metadata": {},
   "outputs": [
    {
     "name": "stdout",
     "output_type": "stream",
     "text": [
      "<class 'pandas.core.frame.DataFrame'>\n",
      "Int64Index: 330600 entries, 0 to 354368\n",
      "Data columns (total 13 columns):\n",
      "Price                330600 non-null int64\n",
      "VehicleType_cat      330600 non-null object\n",
      "RegistrationYear     330600 non-null int64\n",
      "Gearbox_cat          330600 non-null object\n",
      "Power                330600 non-null int64\n",
      "Model_cat            330600 non-null object\n",
      "Kilometer            330600 non-null int64\n",
      "RegistrationMonth    330600 non-null int64\n",
      "FuelType_cat         330600 non-null object\n",
      "Brand_cat            330600 non-null object\n",
      "Repaired_cat         330600 non-null object\n",
      "NumberOfPictures     330600 non-null int64\n",
      "PostalCode           330600 non-null int64\n",
      "dtypes: int64(7), object(6)\n",
      "memory usage: 35.3+ MB\n"
     ]
    }
   ],
   "source": [
    "df.info()"
   ]
  },
  {
   "cell_type": "markdown",
   "metadata": {},
   "source": [
    "\"Чистый\" датасет уменьшился всего на 6.7%"
   ]
  },
  {
   "cell_type": "markdown",
   "metadata": {},
   "source": [
    "# 2. Обучение и анализ моделей"
   ]
  },
  {
   "cell_type": "code",
   "execution_count": 16,
   "metadata": {},
   "outputs": [
    {
     "data": {
      "text/plain": [
       "(247950, 82650, 247950, 82650)"
      ]
     },
     "execution_count": 16,
     "metadata": {},
     "output_type": "execute_result"
    }
   ],
   "source": [
    "f_train, f_valid, t_train, t_valid = train_test_split(\n",
    "    df.drop('Price', axis=1), df.Price, test_size=0.25, random_state=12345)\n",
    "#del df\n",
    "f_train.shape[0], f_valid.shape[0], t_train.shape[0], t_valid.shape[0]\n"
   ]
  },
  {
   "cell_type": "code",
   "execution_count": 17,
   "metadata": {},
   "outputs": [],
   "source": [
    "f_train['VehicleType_cat'] = f_train['VehicleType_cat'].astype('category')\n",
    "f_train['Gearbox_cat'] = f_train['Gearbox_cat'].astype('category')\n",
    "f_train['Model_cat'] = f_train['Model_cat'].astype('category')\n",
    "f_train['FuelType_cat'] = f_train['FuelType_cat'].astype('category')\n",
    "f_train['Brand_cat'] = f_train['Brand_cat'].astype('category')\n",
    "f_train['Repaired_cat'] = f_train['Repaired_cat'].astype('category')\n",
    "\n",
    "f_valid['VehicleType_cat'] = f_valid['VehicleType_cat'].astype('category')\n",
    "f_valid['Gearbox_cat'] = f_valid['Gearbox_cat'].astype('category')\n",
    "f_valid['Model_cat'] = f_valid['Model_cat'].astype('category')\n",
    "f_valid['FuelType_cat'] = f_valid['FuelType_cat'].astype('category')\n",
    "f_valid['Brand_cat'] = f_valid['Brand_cat'].astype('category')\n",
    "f_valid['Repaired_cat'] = f_valid['Repaired_cat'].astype('category')"
   ]
  },
  {
   "cell_type": "code",
   "execution_count": 18,
   "metadata": {},
   "outputs": [
    {
     "data": {
      "text/plain": [
       "[0, 2, 4, 7, 8, 9]"
      ]
     },
     "execution_count": 18,
     "metadata": {},
     "output_type": "execute_result"
    }
   ],
   "source": [
    "cat_features = [c for c, col in enumerate(f_train.columns) if '_cat' in col]\n",
    "cat_features"
   ]
  },
  {
   "cell_type": "code",
   "execution_count": 19,
   "metadata": {},
   "outputs": [
    {
     "name": "stdout",
     "output_type": "stream",
     "text": [
      "CPU times: user 13.9 s, sys: 36 ms, total: 13.9 s\n",
      "Wall time: 14 s\n"
     ]
    }
   ],
   "source": [
    "%%time\n",
    "estimator = lgb.LGBMRegressor()\n",
    "estimator.fit(f_train, t_train, eval_metric='rmse', categorical_feature=cat_features)\n",
    "pred_valid = estimator.predict(f_valid)\n",
    "pred_train = estimator.predict(f_train)"
   ]
  },
  {
   "cell_type": "code",
   "execution_count": 20,
   "metadata": {},
   "outputs": [],
   "source": [
    "result = pd.DataFrame()\n",
    "result.loc[0,'clear'] = np.sqrt(mean_squared_error(t_train, pred_train))\n",
    "result.loc[1,'clear'] = np.sqrt(mean_squared_error(t_valid, pred_valid))"
   ]
  },
  {
   "cell_type": "code",
   "execution_count": 21,
   "metadata": {},
   "outputs": [
    {
     "data": {
      "text/plain": [
       "(184360, 61454, 184360, 61454)"
      ]
     },
     "execution_count": 21,
     "metadata": {},
     "output_type": "execute_result"
    }
   ],
   "source": [
    "f_train, f_valid, t_train, t_valid = train_test_split(\n",
    "    bad_df.drop('Price', axis=1), bad_df.Price, test_size=0.25, random_state=12345)\n",
    "f_train.shape[0], f_valid.shape[0], t_train.shape[0], t_valid.shape[0]\n"
   ]
  },
  {
   "cell_type": "code",
   "execution_count": 22,
   "metadata": {},
   "outputs": [
    {
     "data": {
      "text/plain": [
       "[0, 2, 4, 7, 8, 9]"
      ]
     },
     "execution_count": 22,
     "metadata": {},
     "output_type": "execute_result"
    }
   ],
   "source": [
    "f_train['VehicleType_cat'] = f_train['VehicleType_cat'].astype('category')\n",
    "f_train['Gearbox_cat'] = f_train['Gearbox_cat'].astype('category')\n",
    "f_train['Model_cat'] = f_train['Model_cat'].astype('category')\n",
    "f_train['FuelType_cat'] = f_train['FuelType_cat'].astype('category')\n",
    "f_train['Brand_cat'] = f_train['Brand_cat'].astype('category')\n",
    "f_train['Repaired_cat'] = f_train['Repaired_cat'].astype('category')\n",
    "\n",
    "f_valid['VehicleType_cat'] = f_valid['VehicleType_cat'].astype('category')\n",
    "f_valid['Gearbox_cat'] = f_valid['Gearbox_cat'].astype('category')\n",
    "f_valid['Model_cat'] = f_valid['Model_cat'].astype('category')\n",
    "f_valid['FuelType_cat'] = f_valid['FuelType_cat'].astype('category')\n",
    "f_valid['Brand_cat'] = f_valid['Brand_cat'].astype('category')\n",
    "f_valid['Repaired_cat'] = f_valid['Repaired_cat'].astype('category')\n",
    "\n",
    "cat_features = [c for c, col in enumerate(f_train.columns) if '_cat' in col]\n",
    "cat_features"
   ]
  },
  {
   "cell_type": "code",
   "execution_count": 23,
   "metadata": {},
   "outputs": [
    {
     "name": "stdout",
     "output_type": "stream",
     "text": [
      "CPU times: user 10.3 s, sys: 32 ms, total: 10.3 s\n",
      "Wall time: 10.4 s\n"
     ]
    }
   ],
   "source": [
    "%%time\n",
    "estimator = lgb.LGBMRegressor()\n",
    "estimator.fit(f_train, t_train, eval_metric='rmse', categorical_feature=cat_features)\n",
    "pred_valid = estimator.predict(f_valid)\n",
    "pred_train = estimator.predict(f_train)\n"
   ]
  },
  {
   "cell_type": "code",
   "execution_count": 24,
   "metadata": {},
   "outputs": [
    {
     "data": {
      "text/html": [
       "<div>\n",
       "<style scoped>\n",
       "    .dataframe tbody tr th:only-of-type {\n",
       "        vertical-align: middle;\n",
       "    }\n",
       "\n",
       "    .dataframe tbody tr th {\n",
       "        vertical-align: top;\n",
       "    }\n",
       "\n",
       "    .dataframe thead th {\n",
       "        text-align: right;\n",
       "    }\n",
       "</style>\n",
       "<table border=\"1\" class=\"dataframe\">\n",
       "  <thead>\n",
       "    <tr style=\"text-align: right;\">\n",
       "      <th></th>\n",
       "      <th>clear</th>\n",
       "      <th>bad</th>\n",
       "    </tr>\n",
       "  </thead>\n",
       "  <tbody>\n",
       "    <tr>\n",
       "      <td>0</td>\n",
       "      <td>1366.423891</td>\n",
       "      <td>1598.658987</td>\n",
       "    </tr>\n",
       "    <tr>\n",
       "      <td>1</td>\n",
       "      <td>1403.982847</td>\n",
       "      <td>1653.598614</td>\n",
       "    </tr>\n",
       "  </tbody>\n",
       "</table>\n",
       "</div>"
      ],
      "text/plain": [
       "         clear          bad\n",
       "0  1366.423891  1598.658987\n",
       "1  1403.982847  1653.598614"
      ]
     },
     "execution_count": 24,
     "metadata": {},
     "output_type": "execute_result"
    }
   ],
   "source": [
    "result.loc[0,'bad'] = np.sqrt(mean_squared_error(t_train, pred_train))\n",
    "result.loc[1,'bad'] = np.sqrt(mean_squared_error(t_valid, pred_valid))\n",
    "result"
   ]
  },
  {
   "cell_type": "code",
   "execution_count": 25,
   "metadata": {},
   "outputs": [
    {
     "name": "stdout",
     "output_type": "stream",
     "text": [
      "different in clear dataset: 0.026751719743398295\n",
      "different in bad dataset: 0.03322428193719851\n"
     ]
    }
   ],
   "source": [
    "print('different in clear dataset:', 1 - result.loc[0,'clear'] / result.loc[1,'clear'])\n",
    "print('different in bad dataset:', 1 - result.loc[0,'bad'] / result.loc[1,'bad'])\n"
   ]
  },
  {
   "cell_type": "markdown",
   "metadata": {},
   "source": [
    "В нулевой строке таблицы result посчитан rmse на тренировочном датасете, в 1 строке - на валидационной выборке. Размахи rmse на предобработанном датасете и датасете без предобработки похожи, разница небольшая. Приблизительно на 250 евро отличается rmse между предобработанным датасетом и непредобработаным. Существенной разницы во времени обучения нет. Исследуем далее модели датасете без предобработки."
   ]
  },
  {
   "cell_type": "code",
   "execution_count": 26,
   "metadata": {},
   "outputs": [
    {
     "name": "stdout",
     "output_type": "stream",
     "text": [
      "Best parameters is: {'max_depth': 15, 'n_estimators': 200}\n",
      "Best score is: -2656926.2843440934\n",
      "CPU times: user 24min 58s, sys: 6.2 s, total: 25min 4s\n",
      "Wall time: 36min 15s\n"
     ]
    }
   ],
   "source": [
    "%%time\n",
    "from sklearn.model_selection import KFold\n",
    "from sklearn.model_selection import GridSearchCV\n",
    "estimator_new = lgb.LGBMRegressor(num_leaves= 31,learning_rate=0.01)\n",
    "\n",
    "param_grid = {\n",
    "    'n_estimators': [10,60,100,200],\n",
    "    'max_depth': [1,5,10,15,20]\n",
    "   \n",
    "}\n",
    "\n",
    "cv =KFold(random_state=1, n_splits=7)\n",
    "gbm = GridSearchCV(estimator, param_grid, cv=cv, scoring='neg_mean_squared_error')\n",
    "\n",
    "gbm.fit(f_train, t_train, categorical_feature=cat_features)\n",
    "\n",
    "print('Best parameters is:', gbm.best_params_)\n",
    "print('Best score is:', gbm.best_score_)"
   ]
  },
  {
   "cell_type": "code",
   "execution_count": 27,
   "metadata": {},
   "outputs": [
    {
     "data": {
      "text/plain": [
       "1996.2070601113892"
      ]
     },
     "execution_count": 27,
     "metadata": {},
     "output_type": "execute_result"
    }
   ],
   "source": [
    "model = lgb.LGBMRegressor(num_leaves= 31, learning_rate=0.01, max_depth=15, n_estimators=200)\n",
    "model.fit(f_train, t_train, categorical_feature=cat_features)\n",
    "pred_valid = model.predict(f_valid)\n",
    "mse = mean_squared_error(t_valid, pred_valid) \n",
    "rmse =  mse ** 0.5\n",
    "rmse"
   ]
  },
  {
   "cell_type": "markdown",
   "metadata": {},
   "source": [
    "Исходя из качества и скорости работы, предлагаю остановиться на модели, обученной на \"плохих\" данных."
   ]
  }
 ],
 "metadata": {
  "kernelspec": {
   "display_name": "Python 3",
   "language": "python",
   "name": "python3"
  },
  "language_info": {
   "codemirror_mode": {
    "name": "ipython",
    "version": 3
   },
   "file_extension": ".py",
   "mimetype": "text/x-python",
   "name": "python",
   "nbconvert_exporter": "python",
   "pygments_lexer": "ipython3",
   "version": "3.7.4"
  }
 },
 "nbformat": 4,
 "nbformat_minor": 2
}
