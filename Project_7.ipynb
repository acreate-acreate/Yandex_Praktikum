{
 "cells": [
  {
   "cell_type": "markdown",
   "metadata": {},
   "source": [
    "# Описание проекта"
   ]
  },
  {
   "cell_type": "markdown",
   "metadata": {},
   "source": [
    "Допустим, вы работаете в добывающей компании «ГлавРосГосНефть». Нужно решить, где бурить новую скважину.\n",
    "\n",
    "Вам предоставлены пробы нефти в трёх регионах: в каждом 10 000 месторождений, где измерили качество нефти и объём её запасов. Постройте модель машинного обучения, которая поможет определить регион, где добыча принесёт наибольшую прибыль. Проанализируйте возможную прибыль и риски техникой *Bootstrap.*\n",
    "\n",
    "Шаги для выбора локации обычно такие:\n",
    "- В избранном регионе собирают характеристики для скважин: качество нефти и объём её запасов;\n",
    "- Строят модель для предсказания объёма запасов в новых скважинах;\n",
    "- Выбирают скважины с самыми высокими оценками значений;\n",
    "- Определяют регион с максимальной суммарной прибылью отобранных скважин.\n",
    "\n",
    "\n",
    "#### Условия задачи:\n",
    "- Для обучения модели подходит только линейная регрессия (остальные — недостаточно предсказуемые).\n",
    "- При разведке региона исследуют 500 точек, из которых выбирают 200 лучших для расчёта прибыли.\n",
    "- Бюджет на разработку скважин в регионе — 10 млрд рублей.\n",
    "- Один баррель сырья приносит 450 рублей дохода. Доход с каждой единицы продукта составляет 450 тыс. рублей, поскольку объём - указан в тысячах баррелей.\n",
    "- После оценки рисков нужно оставить лишь те регионы, в которых вероятность убытков меньше 2.5%. Среди них выбирают регион с наибольшей средней прибылью.\n",
    "\n",
    "Данные синтетические: детали контрактов и характеристики месторождений не разглашаются."
   ]
  },
  {
   "cell_type": "markdown",
   "metadata": {},
   "source": [
    "# 1. Загрузка и подготовка данных"
   ]
  },
  {
   "cell_type": "code",
   "execution_count": 1,
   "metadata": {},
   "outputs": [
    {
     "name": "stdout",
     "output_type": "stream",
     "text": [
      "0\n",
      "0\n",
      "0\n",
      "<class 'pandas.core.frame.DataFrame'>\n",
      "RangeIndex: 100000 entries, 0 to 99999\n",
      "Data columns (total 4 columns):\n",
      "f0         100000 non-null float64\n",
      "f1         100000 non-null float64\n",
      "f2         100000 non-null float64\n",
      "product    100000 non-null float64\n",
      "dtypes: float64(4)\n",
      "memory usage: 3.1 MB\n",
      "None\n",
      "<class 'pandas.core.frame.DataFrame'>\n",
      "Int64Index: 91765 entries, 0 to 99999\n",
      "Data columns (total 4 columns):\n",
      "f0         91765 non-null float64\n",
      "f1         91765 non-null float64\n",
      "f2         91765 non-null float64\n",
      "product    91765 non-null float64\n",
      "dtypes: float64(4)\n",
      "memory usage: 3.5 MB\n",
      "None\n",
      "<class 'pandas.core.frame.DataFrame'>\n",
      "RangeIndex: 100000 entries, 0 to 99999\n",
      "Data columns (total 4 columns):\n",
      "f0         100000 non-null float64\n",
      "f1         100000 non-null float64\n",
      "f2         100000 non-null float64\n",
      "product    100000 non-null float64\n",
      "dtypes: float64(4)\n",
      "memory usage: 3.1 MB\n",
      "None\n",
      "         f0        f1        f2     product\n",
      "0  0.705745 -0.497823  1.221170  105.280062\n",
      "1  1.334711 -0.340164  4.365080   73.037750\n",
      "2  1.022732  0.151990  1.419926   85.265647\n",
      "3 -0.032172  0.139033  2.978566  168.620776\n",
      "4  1.988431  0.155413  4.751769  154.036647\n",
      "          f0         f1        f2     product\n",
      "0 -15.001348  -8.276000 -0.005876    3.179103\n",
      "1  14.272088  -3.475083  0.999183   26.953261\n",
      "2   6.263187  -5.948386  5.001160  134.766305\n",
      "3 -13.081196 -11.506057  4.999415  137.945408\n",
      "4  12.702195  -8.147433  5.004363  134.766305\n",
      "         f0        f1        f2     product\n",
      "0 -1.146987  0.963328 -0.828965   27.758673\n",
      "1  0.262778  0.269839 -2.530187   56.069697\n",
      "2  0.194587  0.289035 -5.586433   62.871910\n",
      "3  2.236060 -0.553760  0.930038  114.572842\n",
      "4 -0.515993  1.716266  5.899011  149.600746\n"
     ]
    }
   ],
   "source": [
    "import pandas as pd\n",
    "from sklearn.linear_model import LinearRegression\n",
    "from sklearn.model_selection import train_test_split\n",
    "from sklearn.preprocessing import StandardScaler\n",
    "from sklearn.metrics import mean_squared_error\n",
    "import warnings\n",
    "warnings.filterwarnings('ignore')\n",
    "from sklearn.metrics import r2_score\n",
    "from numpy.random import RandomState\n",
    "state = RandomState(12345)\n",
    "import matplotlib.pyplot as plt\n",
    "\n",
    "g0 = pd.read_csv('/datasets/geo_data_0.csv')\n",
    "g1 = pd.read_csv('/datasets/geo_data_1.csv')\n",
    "g2 = pd.read_csv('/datasets/geo_data_2.csv')\n",
    "\n",
    "g0 = g0.drop('id', axis=1)\n",
    "g1 = g1.drop('id', axis=1)\n",
    "g2 = g2.drop('id', axis=1)\n",
    "\n",
    "print(g0.duplicated().sum())\n",
    "print(g1.duplicated().sum())\n",
    "print(g2.duplicated().sum())\n",
    "\n",
    "g1 = g1.query('product > 0')\n",
    "\n",
    "print(g0.info())\n",
    "print(g1.info())\n",
    "print(g2.info())\n",
    "print(g0.head())\n",
    "print(g1.head())\n",
    "print(g2.head())"
   ]
  },
  {
   "cell_type": "code",
   "execution_count": 21,
   "metadata": {},
   "outputs": [
    {
     "data": {
      "text/plain": [
       "11"
      ]
     },
     "execution_count": 21,
     "metadata": {},
     "output_type": "execute_result"
    }
   ],
   "source": [
    "g11= g1['product'].drop_duplicates().count()\n",
    "g11"
   ]
  },
  {
   "cell_type": "markdown",
   "metadata": {},
   "source": [
    "Я проверила данные на пропуски, на дубликаты - вроде, всё в порядке. В гео1 были нулевые значения прибыли, эти месторождения я дропнула - такие месторождения нам не интересны. Столбец с id месторождений также не пригодится. \n",
    "Гео1 в целом, странный датасет - в нем встречаются только уникальных 11 значений product. Выглядит так, будто  это 11 категорий, под которые распределили все данные f0,f1,f2, и модель наверняка будет склонна к переобучению на таких данных. Придётся работать с таким датасетом - других вариантов нет. Сокращать датасет до 11 строк считаю нецелесообразным - тогда данных для обучения будет слишком мало."
   ]
  },
  {
   "cell_type": "markdown",
   "metadata": {},
   "source": [
    "# 2. Обучение и проверка модели"
   ]
  },
  {
   "cell_type": "code",
   "execution_count": 2,
   "metadata": {},
   "outputs": [
    {
     "name": "stdout",
     "output_type": "stream",
     "text": [
      "g0:\n",
      "RMSE = 37.5794217150813\n",
      "mean = 92.59256778438038\n",
      "R2 = 0.27994321524487786\n",
      "\n",
      "g1:\n",
      "RMSE = 0.8856021667872856\n",
      "mean = 74.92220858318946\n",
      "R2 = 0.9995727386904206\n",
      "\n",
      "g2:\n",
      "RMSE = 40.02970873393434\n",
      "mean = 94.96504596800489\n",
      "R2 = 0.20524758386040443\n"
     ]
    }
   ],
   "source": [
    "target0 = g0['product']\n",
    "features0= g0.drop('product', axis=1)\n",
    "target1 = g1['product']\n",
    "features1= g1.drop('product', axis=1)\n",
    "target2 = g2['product']\n",
    "features2= g2.drop('product', axis=1)\n",
    "numeric = ['f0', 'f1', 'f2']\n",
    "\n",
    "features_train0, features_valid0, target_train0, target_valid0 = train_test_split(\n",
    "   features0, target0, test_size=0.25, random_state=12345)\n",
    "scaler = StandardScaler()\n",
    "scaler.fit(features_train0[numeric])\n",
    "features_train0[numeric] = scaler.transform(features_train0[numeric])\n",
    "features_valid0[numeric] = scaler.transform(features_valid0[numeric])\n",
    "model = LinearRegression()\n",
    "model.fit(features_train0, target_train0)\n",
    "predict0 = model.predict(features_valid0)\n",
    "mse0 = mean_squared_error(target_valid0, predict0)\n",
    "print(\"g0:\")\n",
    "print(\"RMSE =\", mse0 ** 0.5)\n",
    "print(\"mean =\", predict0.mean())\n",
    "print(\"R2 =\", r2_score(target_valid0, predict0))\n",
    "\n",
    "features_train1, features_valid1, target_train1, target_valid1 = train_test_split(\n",
    "   features1, target1, test_size=0.25, random_state=12345)\n",
    "numeric = ['f0', 'f1', 'f2']\n",
    "scaler.fit(features_train1[numeric])\n",
    "features_train1[numeric] = scaler.transform(features_train1[numeric])\n",
    "features_valid1[numeric] = scaler.transform(features_valid1[numeric])\n",
    "model.fit(features_train1, target_train1)\n",
    "predict1 = model.predict(features_valid1)\n",
    "mse1 = mean_squared_error(target_valid1, predict1)\n",
    "print(\"\")\n",
    "print(\"g1:\")\n",
    "print(\"RMSE =\", mse1 ** 0.5)\n",
    "print(\"mean =\", predict1.mean())\n",
    "print(\"R2 =\", r2_score(target_valid1, predict1))\n",
    "\n",
    "features_train2, features_valid2, target_train2, target_valid2 = train_test_split(\n",
    "   features2, target2, test_size=0.25, random_state=12345)\n",
    "scaler.fit(features_train2[numeric])\n",
    "features_train2[numeric] = scaler.transform(features_train2[numeric])\n",
    "features_valid2[numeric] = scaler.transform(features_valid2[numeric])\n",
    "model.fit(features_train2, target_train2)\n",
    "predict2 = model.predict(features_valid2)\n",
    "mse2 = mean_squared_error(target_valid2, predict2)\n",
    "print(\"\")\n",
    "print(\"g2:\")\n",
    "print(\"RMSE =\", mse2 ** 0.5)\n",
    "print(\"mean =\", predict2.mean())\n",
    "print(\"R2 =\", r2_score(target_valid2, predict2))"
   ]
  },
  {
   "cell_type": "markdown",
   "metadata": {},
   "source": [
    "Средний запас сырья больше всего в гео2, но в нем же и rmse хуже всего. Обучиться на гео1 было проще всего - поэтому такое отличное качестве при самом низком запасе сырья. Но есть опасение, что модель, обученная на гео1 будет хуже работать на данных типа гео0 и гео2, так как менее чувствительная к большому количеству значений."
   ]
  },
  {
   "cell_type": "code",
   "execution_count": 3,
   "metadata": {},
   "outputs": [
    {
     "data": {
      "text/html": [
       "<div>\n",
       "<style scoped>\n",
       "    .dataframe tbody tr th:only-of-type {\n",
       "        vertical-align: middle;\n",
       "    }\n",
       "\n",
       "    .dataframe tbody tr th {\n",
       "        vertical-align: top;\n",
       "    }\n",
       "\n",
       "    .dataframe thead th {\n",
       "        text-align: right;\n",
       "    }\n",
       "</style>\n",
       "<table border=\"1\" class=\"dataframe\">\n",
       "  <thead>\n",
       "    <tr style=\"text-align: right;\">\n",
       "      <th></th>\n",
       "      <th>f0</th>\n",
       "      <th>f1</th>\n",
       "      <th>f2</th>\n",
       "      <th>predictions</th>\n",
       "    </tr>\n",
       "  </thead>\n",
       "  <tbody>\n",
       "    <tr>\n",
       "      <td>0</td>\n",
       "      <td>0.705745</td>\n",
       "      <td>-0.497823</td>\n",
       "      <td>1.221170</td>\n",
       "      <td>119.315661</td>\n",
       "    </tr>\n",
       "    <tr>\n",
       "      <td>1</td>\n",
       "      <td>1.334711</td>\n",
       "      <td>-0.340164</td>\n",
       "      <td>4.365080</td>\n",
       "      <td>181.649141</td>\n",
       "    </tr>\n",
       "    <tr>\n",
       "      <td>2</td>\n",
       "      <td>1.022732</td>\n",
       "      <td>0.151990</td>\n",
       "      <td>1.419926</td>\n",
       "      <td>123.224812</td>\n",
       "    </tr>\n",
       "    <tr>\n",
       "      <td>3</td>\n",
       "      <td>-0.032172</td>\n",
       "      <td>0.139033</td>\n",
       "      <td>2.978566</td>\n",
       "      <td>154.060925</td>\n",
       "    </tr>\n",
       "    <tr>\n",
       "      <td>4</td>\n",
       "      <td>1.988431</td>\n",
       "      <td>0.155413</td>\n",
       "      <td>4.751769</td>\n",
       "      <td>189.312273</td>\n",
       "    </tr>\n",
       "    <tr>\n",
       "      <td>...</td>\n",
       "      <td>...</td>\n",
       "      <td>...</td>\n",
       "      <td>...</td>\n",
       "      <td>...</td>\n",
       "    </tr>\n",
       "    <tr>\n",
       "      <td>99995</td>\n",
       "      <td>0.971957</td>\n",
       "      <td>0.370953</td>\n",
       "      <td>6.075346</td>\n",
       "      <td>215.475005</td>\n",
       "    </tr>\n",
       "    <tr>\n",
       "      <td>99996</td>\n",
       "      <td>1.392429</td>\n",
       "      <td>-0.382606</td>\n",
       "      <td>1.273912</td>\n",
       "      <td>120.389433</td>\n",
       "    </tr>\n",
       "    <tr>\n",
       "      <td>99997</td>\n",
       "      <td>1.029585</td>\n",
       "      <td>0.018787</td>\n",
       "      <td>-1.348308</td>\n",
       "      <td>68.369395</td>\n",
       "    </tr>\n",
       "    <tr>\n",
       "      <td>99998</td>\n",
       "      <td>0.998163</td>\n",
       "      <td>-0.528582</td>\n",
       "      <td>1.583869</td>\n",
       "      <td>126.522122</td>\n",
       "    </tr>\n",
       "    <tr>\n",
       "      <td>99999</td>\n",
       "      <td>1.764754</td>\n",
       "      <td>-0.266417</td>\n",
       "      <td>5.722849</td>\n",
       "      <td>208.577345</td>\n",
       "    </tr>\n",
       "  </tbody>\n",
       "</table>\n",
       "<p>100000 rows × 4 columns</p>\n",
       "</div>"
      ],
      "text/plain": [
       "             f0        f1        f2  predictions\n",
       "0      0.705745 -0.497823  1.221170   119.315661\n",
       "1      1.334711 -0.340164  4.365080   181.649141\n",
       "2      1.022732  0.151990  1.419926   123.224812\n",
       "3     -0.032172  0.139033  2.978566   154.060925\n",
       "4      1.988431  0.155413  4.751769   189.312273\n",
       "...         ...       ...       ...          ...\n",
       "99995  0.971957  0.370953  6.075346   215.475005\n",
       "99996  1.392429 -0.382606  1.273912   120.389433\n",
       "99997  1.029585  0.018787 -1.348308    68.369395\n",
       "99998  0.998163 -0.528582  1.583869   126.522122\n",
       "99999  1.764754 -0.266417  5.722849   208.577345\n",
       "\n",
       "[100000 rows x 4 columns]"
      ]
     },
     "execution_count": 3,
     "metadata": {},
     "output_type": "execute_result"
    }
   ],
   "source": [
    "#Объединяю предсказания и признаки в датасеты\n",
    "all_predict0 = model.predict(features0)\n",
    "all_predict1 = model.predict(features1)\n",
    "all_predict2 = model.predict(features2)\n",
    "\n",
    "features0 = features0.reset_index(drop=True)\n",
    "features1 = features1.reset_index(drop=True)\n",
    "features2 = features2.reset_index(drop=True)\n",
    "\n",
    "predict0_df = pd.DataFrame([all_predict0]).T\n",
    "predict1_df = pd.DataFrame([all_predict1]).T\n",
    "predict2_df = pd.DataFrame([all_predict2]).T\n",
    "\n",
    "predict0_df = features0.join(predict0_df)\n",
    "predict1_df = features1.join(predict1_df)\n",
    "predict2_df = features2.join(predict2_df)\n",
    "\n",
    "predict0_df.set_axis(['f0', 'f1', 'f2', 'predictions'], axis = 'columns', inplace = True)\n",
    "predict1_df.set_axis(['f0', 'f1', 'f2', 'predictions'], axis = 'columns', inplace = True)\n",
    "predict2_df.set_axis(['f0', 'f1', 'f2', 'predictions'], axis = 'columns', inplace = True)\n",
    "predict0_df"
   ]
  },
  {
   "cell_type": "code",
   "execution_count": 4,
   "metadata": {},
   "outputs": [
    {
     "data": {
      "text/html": [
       "<div>\n",
       "<style scoped>\n",
       "    .dataframe tbody tr th:only-of-type {\n",
       "        vertical-align: middle;\n",
       "    }\n",
       "\n",
       "    .dataframe tbody tr th {\n",
       "        vertical-align: top;\n",
       "    }\n",
       "\n",
       "    .dataframe thead th {\n",
       "        text-align: right;\n",
       "    }\n",
       "</style>\n",
       "<table border=\"1\" class=\"dataframe\">\n",
       "  <thead>\n",
       "    <tr style=\"text-align: right;\">\n",
       "      <th></th>\n",
       "      <th>f0</th>\n",
       "      <th>f1</th>\n",
       "      <th>f2</th>\n",
       "      <th>predictions</th>\n",
       "    </tr>\n",
       "  </thead>\n",
       "  <tbody>\n",
       "    <tr>\n",
       "      <td>0</td>\n",
       "      <td>-15.001348</td>\n",
       "      <td>-8.276000</td>\n",
       "      <td>-0.005876</td>\n",
       "      <td>94.718393</td>\n",
       "    </tr>\n",
       "    <tr>\n",
       "      <td>1</td>\n",
       "      <td>14.272088</td>\n",
       "      <td>-3.475083</td>\n",
       "      <td>0.999183</td>\n",
       "      <td>115.858715</td>\n",
       "    </tr>\n",
       "    <tr>\n",
       "      <td>2</td>\n",
       "      <td>6.263187</td>\n",
       "      <td>-5.948386</td>\n",
       "      <td>5.001160</td>\n",
       "      <td>194.926717</td>\n",
       "    </tr>\n",
       "    <tr>\n",
       "      <td>3</td>\n",
       "      <td>-13.081196</td>\n",
       "      <td>-11.506057</td>\n",
       "      <td>4.999415</td>\n",
       "      <td>194.258595</td>\n",
       "    </tr>\n",
       "    <tr>\n",
       "      <td>4</td>\n",
       "      <td>12.702195</td>\n",
       "      <td>-8.147433</td>\n",
       "      <td>5.004363</td>\n",
       "      <td>195.494637</td>\n",
       "    </tr>\n",
       "    <tr>\n",
       "      <td>...</td>\n",
       "      <td>...</td>\n",
       "      <td>...</td>\n",
       "      <td>...</td>\n",
       "      <td>...</td>\n",
       "    </tr>\n",
       "    <tr>\n",
       "      <td>91760</td>\n",
       "      <td>9.535637</td>\n",
       "      <td>-6.878139</td>\n",
       "      <td>1.998296</td>\n",
       "      <td>135.653754</td>\n",
       "    </tr>\n",
       "    <tr>\n",
       "      <td>91761</td>\n",
       "      <td>-10.160631</td>\n",
       "      <td>-12.558096</td>\n",
       "      <td>5.005581</td>\n",
       "      <td>194.613561</td>\n",
       "    </tr>\n",
       "    <tr>\n",
       "      <td>91762</td>\n",
       "      <td>-7.378891</td>\n",
       "      <td>-3.084104</td>\n",
       "      <td>4.998651</td>\n",
       "      <td>193.938349</td>\n",
       "    </tr>\n",
       "    <tr>\n",
       "      <td>91763</td>\n",
       "      <td>0.665714</td>\n",
       "      <td>-6.152593</td>\n",
       "      <td>1.000146</td>\n",
       "      <td>115.342904</td>\n",
       "    </tr>\n",
       "    <tr>\n",
       "      <td>91764</td>\n",
       "      <td>-3.426139</td>\n",
       "      <td>-7.794274</td>\n",
       "      <td>-0.003299</td>\n",
       "      <td>95.354761</td>\n",
       "    </tr>\n",
       "  </tbody>\n",
       "</table>\n",
       "<p>91765 rows × 4 columns</p>\n",
       "</div>"
      ],
      "text/plain": [
       "              f0         f1        f2  predictions\n",
       "0     -15.001348  -8.276000 -0.005876    94.718393\n",
       "1      14.272088  -3.475083  0.999183   115.858715\n",
       "2       6.263187  -5.948386  5.001160   194.926717\n",
       "3     -13.081196 -11.506057  4.999415   194.258595\n",
       "4      12.702195  -8.147433  5.004363   195.494637\n",
       "...          ...        ...       ...          ...\n",
       "91760   9.535637  -6.878139  1.998296   135.653754\n",
       "91761 -10.160631 -12.558096  5.005581   194.613561\n",
       "91762  -7.378891  -3.084104  4.998651   193.938349\n",
       "91763   0.665714  -6.152593  1.000146   115.342904\n",
       "91764  -3.426139  -7.794274 -0.003299    95.354761\n",
       "\n",
       "[91765 rows x 4 columns]"
      ]
     },
     "execution_count": 4,
     "metadata": {},
     "output_type": "execute_result"
    }
   ],
   "source": [
    "predict1_df"
   ]
  },
  {
   "cell_type": "code",
   "execution_count": 5,
   "metadata": {},
   "outputs": [
    {
     "data": {
      "text/html": [
       "<div>\n",
       "<style scoped>\n",
       "    .dataframe tbody tr th:only-of-type {\n",
       "        vertical-align: middle;\n",
       "    }\n",
       "\n",
       "    .dataframe tbody tr th {\n",
       "        vertical-align: top;\n",
       "    }\n",
       "\n",
       "    .dataframe thead th {\n",
       "        text-align: right;\n",
       "    }\n",
       "</style>\n",
       "<table border=\"1\" class=\"dataframe\">\n",
       "  <thead>\n",
       "    <tr style=\"text-align: right;\">\n",
       "      <th></th>\n",
       "      <th>f0</th>\n",
       "      <th>f1</th>\n",
       "      <th>f2</th>\n",
       "      <th>predictions</th>\n",
       "    </tr>\n",
       "  </thead>\n",
       "  <tbody>\n",
       "    <tr>\n",
       "      <td>0</td>\n",
       "      <td>-1.146987</td>\n",
       "      <td>0.963328</td>\n",
       "      <td>-0.828965</td>\n",
       "      <td>78.477490</td>\n",
       "    </tr>\n",
       "    <tr>\n",
       "      <td>1</td>\n",
       "      <td>0.262778</td>\n",
       "      <td>0.269839</td>\n",
       "      <td>-2.530187</td>\n",
       "      <td>44.885688</td>\n",
       "    </tr>\n",
       "    <tr>\n",
       "      <td>2</td>\n",
       "      <td>0.194587</td>\n",
       "      <td>0.289035</td>\n",
       "      <td>-5.586433</td>\n",
       "      <td>-15.693094</td>\n",
       "    </tr>\n",
       "    <tr>\n",
       "      <td>3</td>\n",
       "      <td>2.236060</td>\n",
       "      <td>-0.553760</td>\n",
       "      <td>0.930038</td>\n",
       "      <td>113.631571</td>\n",
       "    </tr>\n",
       "    <tr>\n",
       "      <td>4</td>\n",
       "      <td>-0.515993</td>\n",
       "      <td>1.716266</td>\n",
       "      <td>5.899011</td>\n",
       "      <td>211.802858</td>\n",
       "    </tr>\n",
       "    <tr>\n",
       "      <td>...</td>\n",
       "      <td>...</td>\n",
       "      <td>...</td>\n",
       "      <td>...</td>\n",
       "      <td>...</td>\n",
       "    </tr>\n",
       "    <tr>\n",
       "      <td>99995</td>\n",
       "      <td>-1.777037</td>\n",
       "      <td>1.125220</td>\n",
       "      <td>6.263374</td>\n",
       "      <td>218.999691</td>\n",
       "    </tr>\n",
       "    <tr>\n",
       "      <td>99996</td>\n",
       "      <td>-1.261523</td>\n",
       "      <td>-0.894828</td>\n",
       "      <td>2.524545</td>\n",
       "      <td>145.071473</td>\n",
       "    </tr>\n",
       "    <tr>\n",
       "      <td>99997</td>\n",
       "      <td>-1.199934</td>\n",
       "      <td>-2.957637</td>\n",
       "      <td>5.219411</td>\n",
       "      <td>198.635648</td>\n",
       "    </tr>\n",
       "    <tr>\n",
       "      <td>99998</td>\n",
       "      <td>-2.419896</td>\n",
       "      <td>2.417221</td>\n",
       "      <td>-5.548444</td>\n",
       "      <td>-15.234559</td>\n",
       "    </tr>\n",
       "    <tr>\n",
       "      <td>99999</td>\n",
       "      <td>-2.551421</td>\n",
       "      <td>-2.025625</td>\n",
       "      <td>6.090891</td>\n",
       "      <td>215.768082</td>\n",
       "    </tr>\n",
       "  </tbody>\n",
       "</table>\n",
       "<p>100000 rows × 4 columns</p>\n",
       "</div>"
      ],
      "text/plain": [
       "             f0        f1        f2  predictions\n",
       "0     -1.146987  0.963328 -0.828965    78.477490\n",
       "1      0.262778  0.269839 -2.530187    44.885688\n",
       "2      0.194587  0.289035 -5.586433   -15.693094\n",
       "3      2.236060 -0.553760  0.930038   113.631571\n",
       "4     -0.515993  1.716266  5.899011   211.802858\n",
       "...         ...       ...       ...          ...\n",
       "99995 -1.777037  1.125220  6.263374   218.999691\n",
       "99996 -1.261523 -0.894828  2.524545   145.071473\n",
       "99997 -1.199934 -2.957637  5.219411   198.635648\n",
       "99998 -2.419896  2.417221 -5.548444   -15.234559\n",
       "99999 -2.551421 -2.025625  6.090891   215.768082\n",
       "\n",
       "[100000 rows x 4 columns]"
      ]
     },
     "execution_count": 5,
     "metadata": {},
     "output_type": "execute_result"
    }
   ],
   "source": [
    "predict2_df"
   ]
  },
  {
   "cell_type": "markdown",
   "metadata": {},
   "source": [
    "# 3. Подготовка к расчёту прибыли"
   ]
  },
  {
   "cell_type": "code",
   "execution_count": 6,
   "metadata": {},
   "outputs": [
    {
     "name": "stdout",
     "output_type": "stream",
     "text": [
      "Минимально необходимый объём сырья в регионе, тыс: 2222.2222222222226\n",
      "Средний объём сырья в 200 скважинах в регионе geo0: 18518.513556876074\n",
      "Средний объём сырья в 200 скважинах в регионе geo1: 14984.441716637892\n",
      "Средний объём сырья в 200 скважинах в регионе geo2: 18993.009193600978\n"
     ]
    }
   ],
   "source": [
    "total_budget = 10000000000\n",
    "one_well = 50000000\n",
    "barrel_price = 4500\n",
    "\n",
    "x= one_well / barrel_price #сколько должно быть минимально баррлей в одной скважине, чтобы окупить её разработку\n",
    "y = total_budget / one_well #на разработку какого количества скважин хватает бюджета\n",
    "z = (x * y) / 1000 #мнимальный объём сырья в регионе, достаточный для его разработки\n",
    "print('Минимально необходимый объём сырья в регионе, тыс:',z)\n",
    "print('Средний объём сырья в 200 скважинах в регионе geo0:',predict0.mean()* y)\n",
    "print('Средний объём сырья в 200 скважинах в регионе geo1:',predict1.mean()* y)\n",
    "print('Средний объём сырья в 200 скважинах в регионе geo2:',predict2.mean()* y)\n"
   ]
  },
  {
   "cell_type": "markdown",
   "metadata": {},
   "source": [
    "Как минимум 2223 тысячей баррелей должно быть в выбранных нами 200 месторождениях, чтобы окупить разработку, не говоря уже о прибыли. И, судя по средним, мы закрываем этот объём в любом из регионов."
   ]
  },
  {
   "cell_type": "code",
   "execution_count": 7,
   "metadata": {},
   "outputs": [],
   "source": [
    "# функция для расчёта прибыли по набору отобранных месторождений и предсказаний модели. \n",
    "# возвращает суммарную прибыль с count лучших месторождений из data\n",
    "\n",
    "def profit_calc(data,count):\n",
    "    calc = data['predictions'] * 4500\n",
    "    calc_sorted = calc.sort_values(ascending=False)\n",
    "    selected = calc_sorted[:count]\n",
    "    return selected.sum()\n"
   ]
  },
  {
   "cell_type": "markdown",
   "metadata": {},
   "source": [
    "# 4. Расчёт прибыли и рисков "
   ]
  },
  {
   "cell_type": "code",
   "execution_count": 8,
   "metadata": {},
   "outputs": [
    {
     "name": "stdout",
     "output_type": "stream",
     "text": [
      "geo0:\n",
      "Средняя выручка: 186304031.72061938\n",
      "5%-квантиль: 180779352.8852299\n",
      "\n",
      "geo1:\n",
      "Средняя выручка: 163484684.8693482\n",
      "5%-квантиль: 161114956.24780226\n",
      "\n",
      "geo2:\n",
      "Средняя выручка: 189966846.1580475\n",
      "5%-квантиль: 184369206.87165952\n"
     ]
    }
   ],
   "source": [
    "values0 = []\n",
    "for i in range(1000):\n",
    "    probs_subsample0 = predict0_df.sample(n = 500, replace=True, random_state=state)\n",
    "    values0.append(profit_calc(probs_subsample0, 200))\n",
    "values0 = pd.Series(values0)\n",
    "lower0 = values0.quantile(0.05)\n",
    "mean0 = values0.mean()\n",
    "print(\"geo0:\")\n",
    "print(\"Средняя выручка:\", mean0)\n",
    "print(\"5%-квантиль:\", lower0)\n",
    "\n",
    "values1 = []\n",
    "for i in range(1000):\n",
    "    probs_subsample1 = predict1_df.sample(n = 500, replace=True, random_state=state)\n",
    "    values1.append(profit_calc(probs_subsample1, 200))\n",
    "values1 = pd.Series(values1)\n",
    "lower1 = values1.quantile(0.05)\n",
    "mean1 = values1.mean()\n",
    "print(\"\")\n",
    "print(\"geo1:\")\n",
    "print(\"Средняя выручка:\", mean1)\n",
    "print(\"5%-квантиль:\", lower1)\n",
    "\n",
    "values2 = []\n",
    "for i in range(1000):\n",
    "    probs_subsample2 = predict2_df.sample(n = 500, replace=True, random_state=state)\n",
    "    values2.append(profit_calc(probs_subsample2, 200))\n",
    "values2 = pd.Series(values2)\n",
    "lower2 = values2.quantile(0.05)\n",
    "mean2 = values2.mean()\n",
    "print(\"\")\n",
    "print(\"geo2:\")\n",
    "print(\"Средняя выручка:\", mean2)\n",
    "print(\"5%-квантиль:\", lower2)"
   ]
  },
  {
   "cell_type": "markdown",
   "metadata": {},
   "source": [
    "Наибольшая средняя выручка у нас в гео2, но с вероятностью 95% мы получим немного меньше прибыли. Похожая ситуация и с гео0. С гео1 интереснее - разница между средней выручкой и 5-м квантилем у неё заметно меньше, чем у остальных регионов - потому что качество модели было лучше. Все три региона окупаются, но посмотрим на риски:"
   ]
  },
  {
   "cell_type": "code",
   "execution_count": 9,
   "metadata": {},
   "outputs": [
    {
     "data": {
      "image/png": "[encoded data removed]",
      "text/plain": [
       "<Figure size 432x288 with 1 Axes>"
      ]
     },
     "metadata": {
      "needs_background": "light"
     },
     "output_type": "display_data"
    },
    {
     "data": {
      "image/png": "[encoded data removed]",
      "text/plain": [
       "<Figure size 432x288 with 1 Axes>"
      ]
     },
     "metadata": {
      "needs_background": "light"
     },
     "output_type": "display_data"
    },
    {
     "data": {
      "text/plain": [
       "<matplotlib.axes._subplots.AxesSubplot at 0x7fcebe1f7710>"
      ]
     },
     "execution_count": 9,
     "metadata": {},
     "output_type": "execute_result"
    },
    {
     "data": {
      "image/png": "[encoded data removed]",
      "text/plain": [
       "<Figure size 432x288 with 1 Axes>"
      ]
     },
     "metadata": {
      "needs_background": "light"
     },
     "output_type": "display_data"
    }
   ],
   "source": [
    "values0.hist()\n",
    "plt.show()\n",
    "values1.hist()\n",
    "plt.show()\n",
    "values2.hist()"
   ]
  },
  {
   "cell_type": "code",
   "execution_count": 10,
   "metadata": {},
   "outputs": [
    {
     "data": {
      "image/png": "[encoded data removed]",
      "text/plain": [
       "<Figure size 432x288 with 1 Axes>"
      ]
     },
     "metadata": {
      "needs_background": "light"
     },
     "output_type": "display_data"
    },
    {
     "data": {
      "image/png": "[encoded data removed]",
      "text/plain": [
       "<Figure size 432x288 with 1 Axes>"
      ]
     },
     "metadata": {
      "needs_background": "light"
     },
     "output_type": "display_data"
    },
    {
     "data": {
      "text/plain": [
       "<matplotlib.axes._subplots.AxesSubplot at 0x7fcec4969080>"
      ]
     },
     "execution_count": 10,
     "metadata": {},
     "output_type": "execute_result"
    },
    {
     "data": {
      "image/png": "[encoded data removed]",
      "text/plain": [
       "<Figure size 432x288 with 1 Axes>"
      ]
     },
     "metadata": {
      "needs_background": "light"
     },
     "output_type": "display_data"
    }
   ],
   "source": [
    "values0.hist(range=(0,values0.min()))\n",
    "plt.show()\n",
    "values1.hist(range=(0,values1.min()))\n",
    "plt.show()\n",
    "values2.hist(range=(0,values2.min()))"
   ]
  },
  {
   "cell_type": "markdown",
   "metadata": {},
   "source": [
    "В окрестностях 0 нет значений ни по одному региону - риски отсутствуют. По условиям задачи нуно выбрать регион с наибольшей средней прибылью. Это регион гео2."
   ]
  }
 ],
 "metadata": {
  "kernelspec": {
   "display_name": "Python 3",
   "language": "python",
   "name": "python3"
  },
  "language_info": {
   "codemirror_mode": {
    "name": "ipython",
    "version": 3
   },
   "file_extension": ".py",
   "mimetype": "text/x-python",
   "name": "python",
   "nbconvert_exporter": "python",
   "pygments_lexer": "ipython3",
   "version": "3.7.4"
  }
 },
 "nbformat": 4,
 "nbformat_minor": 2
}
